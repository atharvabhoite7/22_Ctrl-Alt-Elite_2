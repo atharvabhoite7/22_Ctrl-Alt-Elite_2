{
 "cells": [
  {
   "cell_type": "code",
   "execution_count": 3,
   "id": "59565a46",
   "metadata": {},
   "outputs": [
    {
     "data": {
      "text/html": [
       "<div>\n",
       "<style scoped>\n",
       "    .dataframe tbody tr th:only-of-type {\n",
       "        vertical-align: middle;\n",
       "    }\n",
       "\n",
       "    .dataframe tbody tr th {\n",
       "        vertical-align: top;\n",
       "    }\n",
       "\n",
       "    .dataframe thead th {\n",
       "        text-align: right;\n",
       "    }\n",
       "</style>\n",
       "<table border=\"1\" class=\"dataframe\">\n",
       "  <thead>\n",
       "    <tr style=\"text-align: right;\">\n",
       "      <th></th>\n",
       "      <th>tempr</th>\n",
       "      <th>air_pressure</th>\n",
       "      <th>wind_speed</th>\n",
       "      <th>wind_direction</th>\n",
       "      <th>relative_humidity</th>\n",
       "    </tr>\n",
       "    <tr>\n",
       "      <th>obstime</th>\n",
       "      <th></th>\n",
       "      <th></th>\n",
       "      <th></th>\n",
       "      <th></th>\n",
       "      <th></th>\n",
       "    </tr>\n",
       "  </thead>\n",
       "  <tbody>\n",
       "    <tr>\n",
       "      <th>1985-01-01 12:00:00</th>\n",
       "      <td>-2.0</td>\n",
       "      <td>977.8</td>\n",
       "      <td>13.0</td>\n",
       "      <td>-999</td>\n",
       "      <td>-999</td>\n",
       "    </tr>\n",
       "    <tr>\n",
       "      <th>1985-01-01 13:00:00</th>\n",
       "      <td>-2.0</td>\n",
       "      <td>977.9</td>\n",
       "      <td>14.0</td>\n",
       "      <td>-999</td>\n",
       "      <td>-999</td>\n",
       "    </tr>\n",
       "    <tr>\n",
       "      <th>1985-01-01 14:00:00</th>\n",
       "      <td>-2.0</td>\n",
       "      <td>978.2</td>\n",
       "      <td>14.0</td>\n",
       "      <td>-999</td>\n",
       "      <td>-999</td>\n",
       "    </tr>\n",
       "    <tr>\n",
       "      <th>1985-01-01 15:00:00</th>\n",
       "      <td>-1.8</td>\n",
       "      <td>978.6</td>\n",
       "      <td>8.0</td>\n",
       "      <td>-999</td>\n",
       "      <td>-999</td>\n",
       "    </tr>\n",
       "    <tr>\n",
       "      <th>1985-01-01 16:00:00</th>\n",
       "      <td>-4.0</td>\n",
       "      <td>979.0</td>\n",
       "      <td>8.0</td>\n",
       "      <td>-999</td>\n",
       "      <td>-999</td>\n",
       "    </tr>\n",
       "    <tr>\n",
       "      <th>...</th>\n",
       "      <td>...</td>\n",
       "      <td>...</td>\n",
       "      <td>...</td>\n",
       "      <td>...</td>\n",
       "      <td>...</td>\n",
       "    </tr>\n",
       "    <tr>\n",
       "      <th>2016-12-19 08:00:00</th>\n",
       "      <td>2.2</td>\n",
       "      <td>978.0</td>\n",
       "      <td>22.3</td>\n",
       "      <td>93</td>\n",
       "      <td>40</td>\n",
       "    </tr>\n",
       "    <tr>\n",
       "      <th>2016-12-19 09:00:00</th>\n",
       "      <td>3.5</td>\n",
       "      <td>977.9</td>\n",
       "      <td>16.4</td>\n",
       "      <td>85</td>\n",
       "      <td>43</td>\n",
       "    </tr>\n",
       "    <tr>\n",
       "      <th>2016-12-19 10:00:00</th>\n",
       "      <td>2.7</td>\n",
       "      <td>978.2</td>\n",
       "      <td>22.1</td>\n",
       "      <td>67</td>\n",
       "      <td>45</td>\n",
       "    </tr>\n",
       "    <tr>\n",
       "      <th>2016-12-19 11:00:00</th>\n",
       "      <td>2.1</td>\n",
       "      <td>978.8</td>\n",
       "      <td>20.8</td>\n",
       "      <td>80</td>\n",
       "      <td>48</td>\n",
       "    </tr>\n",
       "    <tr>\n",
       "      <th>2016-12-19 12:00:00</th>\n",
       "      <td>2.6</td>\n",
       "      <td>978.8</td>\n",
       "      <td>17.1</td>\n",
       "      <td>85</td>\n",
       "      <td>49</td>\n",
       "    </tr>\n",
       "  </tbody>\n",
       "</table>\n",
       "<p>155169 rows × 5 columns</p>\n",
       "</div>"
      ],
      "text/plain": [
       "                     tempr  air_pressure  wind_speed  wind_direction  \\\n",
       "obstime                                                                \n",
       "1985-01-01 12:00:00   -2.0         977.8        13.0            -999   \n",
       "1985-01-01 13:00:00   -2.0         977.9        14.0            -999   \n",
       "1985-01-01 14:00:00   -2.0         978.2        14.0            -999   \n",
       "1985-01-01 15:00:00   -1.8         978.6         8.0            -999   \n",
       "1985-01-01 16:00:00   -4.0         979.0         8.0            -999   \n",
       "...                    ...           ...         ...             ...   \n",
       "2016-12-19 08:00:00    2.2         978.0        22.3              93   \n",
       "2016-12-19 09:00:00    3.5         977.9        16.4              85   \n",
       "2016-12-19 10:00:00    2.7         978.2        22.1              67   \n",
       "2016-12-19 11:00:00    2.1         978.8        20.8              80   \n",
       "2016-12-19 12:00:00    2.6         978.8        17.1              85   \n",
       "\n",
       "                     relative_humidity  \n",
       "obstime                                 \n",
       "1985-01-01 12:00:00               -999  \n",
       "1985-01-01 13:00:00               -999  \n",
       "1985-01-01 14:00:00               -999  \n",
       "1985-01-01 15:00:00               -999  \n",
       "1985-01-01 16:00:00               -999  \n",
       "...                                ...  \n",
       "2016-12-19 08:00:00                 40  \n",
       "2016-12-19 09:00:00                 43  \n",
       "2016-12-19 10:00:00                 45  \n",
       "2016-12-19 11:00:00                 48  \n",
       "2016-12-19 12:00:00                 49  \n",
       "\n",
       "[155169 rows x 5 columns]"
      ]
     },
     "execution_count": 3,
     "metadata": {},
     "output_type": "execute_result"
    }
   ],
   "source": [
    "import pandas as pd\n",
    "\n",
    "weather = pd.read_csv(\"weather.csv\")\n",
    "weather.columns = ['obstime', 'tempr','air_pressure','wind_speed','wind_direction','relative_humidity']\n",
    "weather.set_index('obstime')"
   ]
  },
  {
   "cell_type": "code",
   "execution_count": 4,
   "id": "4369b700",
   "metadata": {},
   "outputs": [
    {
     "data": {
      "text/plain": [
       "obstime              0.0\n",
       "tempr                0.0\n",
       "air_pressure         0.0\n",
       "wind_speed           0.0\n",
       "wind_direction       0.0\n",
       "relative_humidity    0.0\n",
       "dtype: float64"
      ]
     },
     "execution_count": 4,
     "metadata": {},
     "output_type": "execute_result"
    }
   ],
   "source": [
    "weather.apply(pd.isnull).sum()/weather.shape[0]"
   ]
  },
  {
   "cell_type": "code",
   "execution_count": 5,
   "id": "1df96d70",
   "metadata": {},
   "outputs": [
    {
     "data": {
      "text/plain": [
       "Index(['1985-01-01 12:00:00', '1985-01-01 13:00:00', '1985-01-01 14:00:00',\n",
       "       '1985-01-01 15:00:00', '1985-01-01 16:00:00', '1985-01-01 17:00:00',\n",
       "       '1985-01-01 18:00:00', '1985-01-01 19:00:00', '1985-01-01 20:00:00',\n",
       "       '1985-01-01 21:00:00',\n",
       "       ...\n",
       "       '2016-12-19 03:00:00', '2016-12-19 04:00:00', '2016-12-19 05:00:00',\n",
       "       '2016-12-19 06:00:00', '2016-12-19 07:00:00', '2016-12-19 08:00:00',\n",
       "       '2016-12-19 09:00:00', '2016-12-19 10:00:00', '2016-12-19 11:00:00',\n",
       "       '2016-12-19 12:00:00'],\n",
       "      dtype='object', name='obstime', length=155169)"
      ]
     },
     "execution_count": 5,
     "metadata": {},
     "output_type": "execute_result"
    }
   ],
   "source": [
    "weather = weather.set_index('obstime')\n",
    "weather.index"
   ]
  },
  {
   "cell_type": "code",
   "execution_count": 6,
   "id": "81a504a9",
   "metadata": {},
   "outputs": [],
   "source": [
    "weather.index = pd.to_datetime(weather.index)"
   ]
  },
  {
   "cell_type": "code",
   "execution_count": 7,
   "id": "e9d30c0a",
   "metadata": {},
   "outputs": [
    {
     "data": {
      "text/plain": [
       "Int64Index([1985, 1985, 1985, 1985, 1985, 1985, 1985, 1985, 1985, 1985,\n",
       "            ...\n",
       "            2016, 2016, 2016, 2016, 2016, 2016, 2016, 2016, 2016, 2016],\n",
       "           dtype='int64', name='obstime', length=155169)"
      ]
     },
     "execution_count": 7,
     "metadata": {},
     "output_type": "execute_result"
    }
   ],
   "source": [
    "weather.index.year"
   ]
  },
  {
   "cell_type": "code",
   "execution_count": 8,
   "id": "ea339572",
   "metadata": {},
   "outputs": [
    {
     "data": {
      "text/plain": [
       "<AxesSubplot:xlabel='obstime'>"
      ]
     },
     "execution_count": 8,
     "metadata": {},
     "output_type": "execute_result"
    },
    {
     "data": {
      "image/png": "[encoded data removed]",
      "text/plain": [
       "<Figure size 432x288 with 1 Axes>"
      ]
     },
     "metadata": {
      "needs_background": "light"
     },
     "output_type": "display_data"
    }
   ],
   "source": [
    "weather.plot()"
   ]
  },
  {
   "cell_type": "code",
   "execution_count": 9,
   "id": "f56b4706",
   "metadata": {},
   "outputs": [],
   "source": [
    "weather[\"target\"] = weather.shift(-1)[\"tempr\"]"
   ]
  },
  {
   "cell_type": "code",
   "execution_count": 10,
   "id": "ad53f183",
   "metadata": {},
   "outputs": [
    {
     "data": {
      "text/html": [
       "<div>\n",
       "<style scoped>\n",
       "    .dataframe tbody tr th:only-of-type {\n",
       "        vertical-align: middle;\n",
       "    }\n",
       "\n",
       "    .dataframe tbody tr th {\n",
       "        vertical-align: top;\n",
       "    }\n",
       "\n",
       "    .dataframe thead th {\n",
       "        text-align: right;\n",
       "    }\n",
       "</style>\n",
       "<table border=\"1\" class=\"dataframe\">\n",
       "  <thead>\n",
       "    <tr style=\"text-align: right;\">\n",
       "      <th></th>\n",
       "      <th>tempr</th>\n",
       "      <th>air_pressure</th>\n",
       "      <th>wind_speed</th>\n",
       "      <th>wind_direction</th>\n",
       "      <th>relative_humidity</th>\n",
       "      <th>target</th>\n",
       "    </tr>\n",
       "    <tr>\n",
       "      <th>obstime</th>\n",
       "      <th></th>\n",
       "      <th></th>\n",
       "      <th></th>\n",
       "      <th></th>\n",
       "      <th></th>\n",
       "      <th></th>\n",
       "    </tr>\n",
       "  </thead>\n",
       "  <tbody>\n",
       "    <tr>\n",
       "      <th>1985-01-01 12:00:00</th>\n",
       "      <td>-2.0</td>\n",
       "      <td>977.8</td>\n",
       "      <td>13.0</td>\n",
       "      <td>-999</td>\n",
       "      <td>-999</td>\n",
       "      <td>-2.0</td>\n",
       "    </tr>\n",
       "    <tr>\n",
       "      <th>1985-01-01 13:00:00</th>\n",
       "      <td>-2.0</td>\n",
       "      <td>977.9</td>\n",
       "      <td>14.0</td>\n",
       "      <td>-999</td>\n",
       "      <td>-999</td>\n",
       "      <td>-2.0</td>\n",
       "    </tr>\n",
       "    <tr>\n",
       "      <th>1985-01-01 14:00:00</th>\n",
       "      <td>-2.0</td>\n",
       "      <td>978.2</td>\n",
       "      <td>14.0</td>\n",
       "      <td>-999</td>\n",
       "      <td>-999</td>\n",
       "      <td>-1.8</td>\n",
       "    </tr>\n",
       "    <tr>\n",
       "      <th>1985-01-01 15:00:00</th>\n",
       "      <td>-1.8</td>\n",
       "      <td>978.6</td>\n",
       "      <td>8.0</td>\n",
       "      <td>-999</td>\n",
       "      <td>-999</td>\n",
       "      <td>-4.0</td>\n",
       "    </tr>\n",
       "    <tr>\n",
       "      <th>1985-01-01 16:00:00</th>\n",
       "      <td>-4.0</td>\n",
       "      <td>979.0</td>\n",
       "      <td>8.0</td>\n",
       "      <td>-999</td>\n",
       "      <td>-999</td>\n",
       "      <td>-5.8</td>\n",
       "    </tr>\n",
       "    <tr>\n",
       "      <th>...</th>\n",
       "      <td>...</td>\n",
       "      <td>...</td>\n",
       "      <td>...</td>\n",
       "      <td>...</td>\n",
       "      <td>...</td>\n",
       "      <td>...</td>\n",
       "    </tr>\n",
       "    <tr>\n",
       "      <th>2016-12-19 08:00:00</th>\n",
       "      <td>2.2</td>\n",
       "      <td>978.0</td>\n",
       "      <td>22.3</td>\n",
       "      <td>93</td>\n",
       "      <td>40</td>\n",
       "      <td>3.5</td>\n",
       "    </tr>\n",
       "    <tr>\n",
       "      <th>2016-12-19 09:00:00</th>\n",
       "      <td>3.5</td>\n",
       "      <td>977.9</td>\n",
       "      <td>16.4</td>\n",
       "      <td>85</td>\n",
       "      <td>43</td>\n",
       "      <td>2.7</td>\n",
       "    </tr>\n",
       "    <tr>\n",
       "      <th>2016-12-19 10:00:00</th>\n",
       "      <td>2.7</td>\n",
       "      <td>978.2</td>\n",
       "      <td>22.1</td>\n",
       "      <td>67</td>\n",
       "      <td>45</td>\n",
       "      <td>2.1</td>\n",
       "    </tr>\n",
       "    <tr>\n",
       "      <th>2016-12-19 11:00:00</th>\n",
       "      <td>2.1</td>\n",
       "      <td>978.8</td>\n",
       "      <td>20.8</td>\n",
       "      <td>80</td>\n",
       "      <td>48</td>\n",
       "      <td>2.6</td>\n",
       "    </tr>\n",
       "    <tr>\n",
       "      <th>2016-12-19 12:00:00</th>\n",
       "      <td>2.6</td>\n",
       "      <td>978.8</td>\n",
       "      <td>17.1</td>\n",
       "      <td>85</td>\n",
       "      <td>49</td>\n",
       "      <td>NaN</td>\n",
       "    </tr>\n",
       "  </tbody>\n",
       "</table>\n",
       "<p>155169 rows × 6 columns</p>\n",
       "</div>"
      ],
      "text/plain": [
       "                     tempr  air_pressure  wind_speed  wind_direction  \\\n",
       "obstime                                                                \n",
       "1985-01-01 12:00:00   -2.0         977.8        13.0            -999   \n",
       "1985-01-01 13:00:00   -2.0         977.9        14.0            -999   \n",
       "1985-01-01 14:00:00   -2.0         978.2        14.0            -999   \n",
       "1985-01-01 15:00:00   -1.8         978.6         8.0            -999   \n",
       "1985-01-01 16:00:00   -4.0         979.0         8.0            -999   \n",
       "...                    ...           ...         ...             ...   \n",
       "2016-12-19 08:00:00    2.2         978.0        22.3              93   \n",
       "2016-12-19 09:00:00    3.5         977.9        16.4              85   \n",
       "2016-12-19 10:00:00    2.7         978.2        22.1              67   \n",
       "2016-12-19 11:00:00    2.1         978.8        20.8              80   \n",
       "2016-12-19 12:00:00    2.6         978.8        17.1              85   \n",
       "\n",
       "                     relative_humidity  target  \n",
       "obstime                                         \n",
       "1985-01-01 12:00:00               -999    -2.0  \n",
       "1985-01-01 13:00:00               -999    -2.0  \n",
       "1985-01-01 14:00:00               -999    -1.8  \n",
       "1985-01-01 15:00:00               -999    -4.0  \n",
       "1985-01-01 16:00:00               -999    -5.8  \n",
       "...                                ...     ...  \n",
       "2016-12-19 08:00:00                 40     3.5  \n",
       "2016-12-19 09:00:00                 43     2.7  \n",
       "2016-12-19 10:00:00                 45     2.1  \n",
       "2016-12-19 11:00:00                 48     2.6  \n",
       "2016-12-19 12:00:00                 49     NaN  \n",
       "\n",
       "[155169 rows x 6 columns]"
      ]
     },
     "execution_count": 10,
     "metadata": {},
     "output_type": "execute_result"
    }
   ],
   "source": [
    "weather"
   ]
  },
  {
   "cell_type": "code",
   "execution_count": 11,
   "id": "9e801f76",
   "metadata": {},
   "outputs": [],
   "source": [
    "weather = weather.iloc[:-1,:].copy()"
   ]
  },
  {
   "cell_type": "code",
   "execution_count": 12,
   "id": "0c26af0f",
   "metadata": {},
   "outputs": [
    {
     "data": {
      "text/html": [
       "<div>\n",
       "<style scoped>\n",
       "    .dataframe tbody tr th:only-of-type {\n",
       "        vertical-align: middle;\n",
       "    }\n",
       "\n",
       "    .dataframe tbody tr th {\n",
       "        vertical-align: top;\n",
       "    }\n",
       "\n",
       "    .dataframe thead th {\n",
       "        text-align: right;\n",
       "    }\n",
       "</style>\n",
       "<table border=\"1\" class=\"dataframe\">\n",
       "  <thead>\n",
       "    <tr style=\"text-align: right;\">\n",
       "      <th></th>\n",
       "      <th>tempr</th>\n",
       "      <th>air_pressure</th>\n",
       "      <th>wind_speed</th>\n",
       "      <th>wind_direction</th>\n",
       "      <th>relative_humidity</th>\n",
       "      <th>target</th>\n",
       "    </tr>\n",
       "    <tr>\n",
       "      <th>obstime</th>\n",
       "      <th></th>\n",
       "      <th></th>\n",
       "      <th></th>\n",
       "      <th></th>\n",
       "      <th></th>\n",
       "      <th></th>\n",
       "    </tr>\n",
       "  </thead>\n",
       "  <tbody>\n",
       "    <tr>\n",
       "      <th>1985-01-01 12:00:00</th>\n",
       "      <td>-2.0</td>\n",
       "      <td>977.8</td>\n",
       "      <td>13.0</td>\n",
       "      <td>-999</td>\n",
       "      <td>-999</td>\n",
       "      <td>-2.0</td>\n",
       "    </tr>\n",
       "    <tr>\n",
       "      <th>1985-01-01 13:00:00</th>\n",
       "      <td>-2.0</td>\n",
       "      <td>977.9</td>\n",
       "      <td>14.0</td>\n",
       "      <td>-999</td>\n",
       "      <td>-999</td>\n",
       "      <td>-2.0</td>\n",
       "    </tr>\n",
       "    <tr>\n",
       "      <th>1985-01-01 14:00:00</th>\n",
       "      <td>-2.0</td>\n",
       "      <td>978.2</td>\n",
       "      <td>14.0</td>\n",
       "      <td>-999</td>\n",
       "      <td>-999</td>\n",
       "      <td>-1.8</td>\n",
       "    </tr>\n",
       "    <tr>\n",
       "      <th>1985-01-01 15:00:00</th>\n",
       "      <td>-1.8</td>\n",
       "      <td>978.6</td>\n",
       "      <td>8.0</td>\n",
       "      <td>-999</td>\n",
       "      <td>-999</td>\n",
       "      <td>-4.0</td>\n",
       "    </tr>\n",
       "    <tr>\n",
       "      <th>1985-01-01 16:00:00</th>\n",
       "      <td>-4.0</td>\n",
       "      <td>979.0</td>\n",
       "      <td>8.0</td>\n",
       "      <td>-999</td>\n",
       "      <td>-999</td>\n",
       "      <td>-5.8</td>\n",
       "    </tr>\n",
       "    <tr>\n",
       "      <th>...</th>\n",
       "      <td>...</td>\n",
       "      <td>...</td>\n",
       "      <td>...</td>\n",
       "      <td>...</td>\n",
       "      <td>...</td>\n",
       "      <td>...</td>\n",
       "    </tr>\n",
       "    <tr>\n",
       "      <th>2016-12-19 07:00:00</th>\n",
       "      <td>2.2</td>\n",
       "      <td>978.0</td>\n",
       "      <td>19.5</td>\n",
       "      <td>84</td>\n",
       "      <td>45</td>\n",
       "      <td>2.2</td>\n",
       "    </tr>\n",
       "    <tr>\n",
       "      <th>2016-12-19 08:00:00</th>\n",
       "      <td>2.2</td>\n",
       "      <td>978.0</td>\n",
       "      <td>22.3</td>\n",
       "      <td>93</td>\n",
       "      <td>40</td>\n",
       "      <td>3.5</td>\n",
       "    </tr>\n",
       "    <tr>\n",
       "      <th>2016-12-19 09:00:00</th>\n",
       "      <td>3.5</td>\n",
       "      <td>977.9</td>\n",
       "      <td>16.4</td>\n",
       "      <td>85</td>\n",
       "      <td>43</td>\n",
       "      <td>2.7</td>\n",
       "    </tr>\n",
       "    <tr>\n",
       "      <th>2016-12-19 10:00:00</th>\n",
       "      <td>2.7</td>\n",
       "      <td>978.2</td>\n",
       "      <td>22.1</td>\n",
       "      <td>67</td>\n",
       "      <td>45</td>\n",
       "      <td>2.1</td>\n",
       "    </tr>\n",
       "    <tr>\n",
       "      <th>2016-12-19 11:00:00</th>\n",
       "      <td>2.1</td>\n",
       "      <td>978.8</td>\n",
       "      <td>20.8</td>\n",
       "      <td>80</td>\n",
       "      <td>48</td>\n",
       "      <td>2.6</td>\n",
       "    </tr>\n",
       "  </tbody>\n",
       "</table>\n",
       "<p>155168 rows × 6 columns</p>\n",
       "</div>"
      ],
      "text/plain": [
       "                     tempr  air_pressure  wind_speed  wind_direction  \\\n",
       "obstime                                                                \n",
       "1985-01-01 12:00:00   -2.0         977.8        13.0            -999   \n",
       "1985-01-01 13:00:00   -2.0         977.9        14.0            -999   \n",
       "1985-01-01 14:00:00   -2.0         978.2        14.0            -999   \n",
       "1985-01-01 15:00:00   -1.8         978.6         8.0            -999   \n",
       "1985-01-01 16:00:00   -4.0         979.0         8.0            -999   \n",
       "...                    ...           ...         ...             ...   \n",
       "2016-12-19 07:00:00    2.2         978.0        19.5              84   \n",
       "2016-12-19 08:00:00    2.2         978.0        22.3              93   \n",
       "2016-12-19 09:00:00    3.5         977.9        16.4              85   \n",
       "2016-12-19 10:00:00    2.7         978.2        22.1              67   \n",
       "2016-12-19 11:00:00    2.1         978.8        20.8              80   \n",
       "\n",
       "                     relative_humidity  target  \n",
       "obstime                                         \n",
       "1985-01-01 12:00:00               -999    -2.0  \n",
       "1985-01-01 13:00:00               -999    -2.0  \n",
       "1985-01-01 14:00:00               -999    -1.8  \n",
       "1985-01-01 15:00:00               -999    -4.0  \n",
       "1985-01-01 16:00:00               -999    -5.8  \n",
       "...                                ...     ...  \n",
       "2016-12-19 07:00:00                 45     2.2  \n",
       "2016-12-19 08:00:00                 40     3.5  \n",
       "2016-12-19 09:00:00                 43     2.7  \n",
       "2016-12-19 10:00:00                 45     2.1  \n",
       "2016-12-19 11:00:00                 48     2.6  \n",
       "\n",
       "[155168 rows x 6 columns]"
      ]
     },
     "execution_count": 12,
     "metadata": {},
     "output_type": "execute_result"
    }
   ],
   "source": [
    "weather"
   ]
  },
  {
   "cell_type": "code",
   "execution_count": 13,
   "id": "6fa4e5a9",
   "metadata": {},
   "outputs": [
    {
     "name": "stderr",
     "output_type": "stream",
     "text": [
      "/Users/sarveshpatil/opt/anaconda3/lib/python3.9/site-packages/scipy/__init__.py:146: UserWarning: A NumPy version >=1.16.5 and <1.23.0 is required for this version of SciPy (detected version 1.23.3\n",
      "  warnings.warn(f\"A NumPy version >={np_minversion} and <{np_maxversion}\"\n"
     ]
    }
   ],
   "source": [
    "from sklearn.linear_model import Ridge\n",
    "\n",
    "reg = Ridge(alpha=.1)"
   ]
  },
  {
   "cell_type": "code",
   "execution_count": 14,
   "id": "97f04dc1",
   "metadata": {},
   "outputs": [],
   "source": [
    "predictors = [\"tempr\", \"air_pressure\",\"wind_speed\",\"wind_direction\",\"relative_humidity\"]"
   ]
  },
  {
   "cell_type": "code",
   "execution_count": 15,
   "id": "9e7410b3",
   "metadata": {},
   "outputs": [],
   "source": [
    "train = weather.loc[:\"2013-12-31\"]"
   ]
  },
  {
   "cell_type": "code",
   "execution_count": 16,
   "id": "d5758251",
   "metadata": {},
   "outputs": [],
   "source": [
    "test = weather.loc[\"2014-01-01\":]"
   ]
  },
  {
   "cell_type": "code",
   "execution_count": 17,
   "id": "ce9c7cdf",
   "metadata": {},
   "outputs": [
    {
     "data": {
      "text/plain": [
       "Ridge(alpha=0.1)"
      ]
     },
     "execution_count": 17,
     "metadata": {},
     "output_type": "execute_result"
    }
   ],
   "source": [
    "reg.fit(train[predictors], train[\"target\"])"
   ]
  },
  {
   "cell_type": "code",
   "execution_count": 18,
   "id": "3778cbcd",
   "metadata": {},
   "outputs": [],
   "source": [
    "predictions = reg.predict(test[predictors])"
   ]
  },
  {
   "cell_type": "code",
   "execution_count": 19,
   "id": "01dd6998",
   "metadata": {},
   "outputs": [],
   "source": [
    "from sklearn.metrics import mean_absolute_error"
   ]
  },
  {
   "cell_type": "code",
   "execution_count": 20,
   "id": "d6f234b4",
   "metadata": {},
   "outputs": [
    {
     "data": {
      "text/plain": [
       "0.5377338879058251"
      ]
     },
     "execution_count": 20,
     "metadata": {},
     "output_type": "execute_result"
    }
   ],
   "source": [
    "mean_absolute_error(test[\"target\"], predictions)"
   ]
  },
  {
   "cell_type": "code",
   "execution_count": 21,
   "id": "bdbf7c40",
   "metadata": {},
   "outputs": [],
   "source": [
    "combined = pd.concat([test[\"target\"], pd.Series(predictions, index=test.index)], axis=1)"
   ]
  },
  {
   "cell_type": "code",
   "execution_count": 22,
   "id": "7afed251",
   "metadata": {},
   "outputs": [
    {
     "data": {
      "text/html": [
       "<div>\n",
       "<style scoped>\n",
       "    .dataframe tbody tr th:only-of-type {\n",
       "        vertical-align: middle;\n",
       "    }\n",
       "\n",
       "    .dataframe tbody tr th {\n",
       "        vertical-align: top;\n",
       "    }\n",
       "\n",
       "    .dataframe thead th {\n",
       "        text-align: right;\n",
       "    }\n",
       "</style>\n",
       "<table border=\"1\" class=\"dataframe\">\n",
       "  <thead>\n",
       "    <tr style=\"text-align: right;\">\n",
       "      <th></th>\n",
       "      <th>target</th>\n",
       "      <th>0</th>\n",
       "    </tr>\n",
       "    <tr>\n",
       "      <th>obstime</th>\n",
       "      <th></th>\n",
       "      <th></th>\n",
       "    </tr>\n",
       "  </thead>\n",
       "  <tbody>\n",
       "    <tr>\n",
       "      <th>2014-01-01 00:00:00</th>\n",
       "      <td>2.2</td>\n",
       "      <td>2.155538</td>\n",
       "    </tr>\n",
       "    <tr>\n",
       "      <th>2014-01-01 01:00:00</th>\n",
       "      <td>2.0</td>\n",
       "      <td>2.056744</td>\n",
       "    </tr>\n",
       "    <tr>\n",
       "      <th>2014-01-01 02:00:00</th>\n",
       "      <td>2.1</td>\n",
       "      <td>1.858826</td>\n",
       "    </tr>\n",
       "    <tr>\n",
       "      <th>2014-01-01 03:00:00</th>\n",
       "      <td>2.0</td>\n",
       "      <td>1.960277</td>\n",
       "    </tr>\n",
       "    <tr>\n",
       "      <th>2014-01-01 04:00:00</th>\n",
       "      <td>1.9</td>\n",
       "      <td>1.861397</td>\n",
       "    </tr>\n",
       "    <tr>\n",
       "      <th>...</th>\n",
       "      <td>...</td>\n",
       "      <td>...</td>\n",
       "    </tr>\n",
       "    <tr>\n",
       "      <th>2016-12-19 07:00:00</th>\n",
       "      <td>2.2</td>\n",
       "      <td>2.024830</td>\n",
       "    </tr>\n",
       "    <tr>\n",
       "      <th>2016-12-19 08:00:00</th>\n",
       "      <td>3.5</td>\n",
       "      <td>2.026475</td>\n",
       "    </tr>\n",
       "    <tr>\n",
       "      <th>2016-12-19 09:00:00</th>\n",
       "      <td>2.7</td>\n",
       "      <td>3.310824</td>\n",
       "    </tr>\n",
       "    <tr>\n",
       "      <th>2016-12-19 10:00:00</th>\n",
       "      <td>2.1</td>\n",
       "      <td>2.522587</td>\n",
       "    </tr>\n",
       "    <tr>\n",
       "      <th>2016-12-19 11:00:00</th>\n",
       "      <td>2.6</td>\n",
       "      <td>1.929574</td>\n",
       "    </tr>\n",
       "  </tbody>\n",
       "</table>\n",
       "<p>24541 rows × 2 columns</p>\n",
       "</div>"
      ],
      "text/plain": [
       "                     target         0\n",
       "obstime                              \n",
       "2014-01-01 00:00:00     2.2  2.155538\n",
       "2014-01-01 01:00:00     2.0  2.056744\n",
       "2014-01-01 02:00:00     2.1  1.858826\n",
       "2014-01-01 03:00:00     2.0  1.960277\n",
       "2014-01-01 04:00:00     1.9  1.861397\n",
       "...                     ...       ...\n",
       "2016-12-19 07:00:00     2.2  2.024830\n",
       "2016-12-19 08:00:00     3.5  2.026475\n",
       "2016-12-19 09:00:00     2.7  3.310824\n",
       "2016-12-19 10:00:00     2.1  2.522587\n",
       "2016-12-19 11:00:00     2.6  1.929574\n",
       "\n",
       "[24541 rows x 2 columns]"
      ]
     },
     "execution_count": 22,
     "metadata": {},
     "output_type": "execute_result"
    }
   ],
   "source": [
    "combined"
   ]
  },
  {
   "cell_type": "code",
   "execution_count": null,
   "id": "7e900378",
   "metadata": {},
   "outputs": [],
   "source": []
  }
 ],
 "metadata": {
  "kernelspec": {
   "display_name": "Python 3 (ipykernel)",
   "language": "python",
   "name": "python3"
  },
  "language_info": {
   "codemirror_mode": {
    "name": "ipython",
    "version": 3
   },
   "file_extension": ".py",
   "mimetype": "text/x-python",
   "name": "python",
   "nbconvert_exporter": "python",
   "pygments_lexer": "ipython3",
   "version": "3.9.12"
  }
 },
 "nbformat": 4,
 "nbformat_minor": 5
}
