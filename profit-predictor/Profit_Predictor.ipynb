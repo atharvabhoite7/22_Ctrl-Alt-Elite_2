{
 "cells": [
  {
   "cell_type": "code",
   "execution_count": 3,
   "id": "d64c578e",
   "metadata": {},
   "outputs": [
    {
     "name": "stdout",
     "output_type": "stream",
     "text": [
      "Classification report : \n",
      "               precision    recall  f1-score   support\n",
      "\n",
      "           1       1.00      0.86      0.92         7\n",
      "           0       0.89      1.00      0.94         8\n",
      "\n",
      "    accuracy                           0.93        15\n",
      "   macro avg       0.94      0.93      0.93        15\n",
      "weighted avg       0.94      0.93      0.93        15\n",
      "\n"
     ]
    },
    {
     "name": "stderr",
     "output_type": "stream",
     "text": [
      "C:\\Users\\ATHARVA\\AppData\\Local\\Temp\\ipykernel_6500\\96032030.py:35: DeprecationWarning: `np.float` is a deprecated alias for the builtin `float`. To silence this warning, use `float` by itself. Doing this will not modify any behavior and is safe. If you specifically wanted the numpy scalar type, use `np.float64` here.\n",
      "Deprecated in NumPy 1.20; for more details and guidance: https://numpy.org/devdocs/release/1.20.0-notes.html#deprecations\n",
      "  x2 = np.array(columnTransformer.fit_transform(X), dtype = np.float)\n",
      "C:\\Users\\ATHARVA\\AppData\\Local\\Temp\\ipykernel_6500\\96032030.py:38: DeprecationWarning: `np.float` is a deprecated alias for the builtin `float`. To silence this warning, use `float` by itself. Doing this will not modify any behavior and is safe. If you specifically wanted the numpy scalar type, use `np.float64` here.\n",
      "Deprecated in NumPy 1.20; for more details and guidance: https://numpy.org/devdocs/release/1.20.0-notes.html#deprecations\n",
      "  x3 = np.array(columnTransformer.fit_transform(x2), dtype = np.float)\n",
      "C:\\Users\\ATHARVA\\anaconda3\\lib\\site-packages\\sklearn\\utils\\validation.py:993: DataConversionWarning: A column-vector y was passed when a 1d array was expected. Please change the shape of y to (n_samples, ), for example using ravel().\n",
      "  y = column_or_1d(y, warn=True)\n"
     ]
    }
   ],
   "source": [
    "import pandas as pd\n",
    "import numpy as np\n",
    "\n",
    "from sklearn import preprocessing\n",
    "from sklearn.preprocessing import OneHotEncoder\n",
    "from sklearn.compose import ColumnTransformer\n",
    "\n",
    "from sklearn.model_selection import train_test_split\n",
    "\n",
    "###############################################################################\n",
    "datainput = pd.read_csv(\"datafile.csv\", delimiter = ',')\n",
    "\n",
    "#preprocessing\n",
    "Profit = (datainput.iloc[:,5]*datainput.iloc[:,6]-(datainput.iloc[:,2]+datainput.iloc[:,3]+(datainput.iloc[:,5]*datainput.iloc[:,4]))).values\n",
    "Profit = Profit.reshape(49,1)\n",
    "Profitcopy = (datainput.iloc[:,5]*datainput.iloc[:,6]-(datainput.iloc[:,2]+datainput.iloc[:,3]+(datainput.iloc[:,5]*datainput.iloc[:,4]))).values\n",
    "\n",
    "for i in range (0,49):\n",
    "    if Profit[i][0]>0:\n",
    "        Profit[i][0] = 1\n",
    "    else:\n",
    "        Profit[i][0] = 0\n",
    "X = datainput[['Crop', 'State', 'Cost of Cultivation (`/Hectare) A2+FL', \n",
    "               'Cost of Cultivation (`/Hectare) C2','Cost of Production (`/Quintal) C2', 'Support price']].values\n",
    "\n",
    "\n",
    "#label encoder to categorical data \n",
    "labelencoder_X = preprocessing.LabelEncoder()\n",
    "X[:,0] = labelencoder_X.fit_transform(X[:, 0])\n",
    "X[:,1] = labelencoder_X.fit_transform(X[:, 1])\n",
    "\n",
    "\n",
    "#One hot encoder \n",
    "columnTransformer = ColumnTransformer([('encoder', OneHotEncoder(),[0])], remainder='passthrough')   \n",
    "x2 = np.array(columnTransformer.fit_transform(X), dtype = np.float) \n",
    "\n",
    "columnTransformer = ColumnTransformer([('encoder', OneHotEncoder(),[10])], remainder='passthrough')  \n",
    "x3 = np.array(columnTransformer.fit_transform(x2), dtype = np.float) \n",
    "\n",
    "#output col in y \n",
    "y = Profit\n",
    "\n",
    "#Splitting\n",
    "X_train, X_test, y_train, y_test = train_test_split(x3, y, test_size=0.3, random_state=3)\n",
    "\n",
    "#Logitic\n",
    "from sklearn.linear_model import LogisticRegression \n",
    "from sklearn.metrics import confusion_matrix\n",
    "\n",
    "classifier = LogisticRegression(random_state = 0) \n",
    "classifier.fit(X_train, y_train) \n",
    "y_pred = classifier.predict(X_test) \n",
    "matrixForLR = confusion_matrix(y_test, y_pred)\n",
    "\n",
    "\n",
    "matrix = confusion_matrix(y_test, y_pred)\n",
    "\n",
    "from sklearn.metrics import classification_report\n",
    "result = classification_report(y_test,y_pred,labels=[1,0])\n",
    "print('Classification report: \\n',result)"
   ]
  }
 ],
 "metadata": {
  "kernelspec": {
   "display_name": "Python 3 (ipykernel)",
   "language": "python",
   "name": "python3"
  },
  "language_info": {
   "codemirror_mode": {
    "name": "ipython",
    "version": 3
   },
   "file_extension": ".py",
   "mimetype": "text/x-python",
   "name": "python",
   "nbconvert_exporter": "python",
   "pygments_lexer": "ipython3",
   "version": "3.9.12"
  }
 },
 "nbformat": 4,
 "nbformat_minor": 5
}
